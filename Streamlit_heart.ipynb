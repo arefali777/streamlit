{
 "cells": [
  {
   "cell_type": "code",
   "execution_count": 4,
   "id": "626693c3",
   "metadata": {},
   "outputs": [],
   "source": [
    "import streamlit as st\n",
    "import pickle\n",
    "import pandas as pd\n",
    "import numpy as np\n",
    "\n",
    "# import the model\n",
    "pipe = pickle.load(open('pipe.pkl','rb'))\n",
    "df = pickle.load(open('df.pkl','rb'))\n",
    "\n",
    "st.title(\"Heart Disease Predictor by Jazan student\")\n",
    "# st.text(\"1 means you've a heart disease, 0 means you don't have a heart disease\")\n",
    "#Age\n",
    "Age = st.number_input('Age of Person')\n",
    "#Sex\n",
    "Sex = st.selectbox('Sex',df['sex'].unique())\n",
    "#ChestPainType\n",
    "cp = st.selectbox('Chest Pain Type',df['cp'].unique())\n",
    "#RestingBP\n",
    "trestbps = st.number_input('Resting Blood Pressure')\n",
    "#Cholesterol\n",
    "chol = st.number_input('Serum Cholesterol')\n",
    "#FastingBS\n",
    "fbs = st.selectbox('Fasting Blood Sugar',[0,1])\n",
    "#RestingECG\n",
    "restecg = st.selectbox('Resting Electrocardiogram Results',df['restecg'].unique())\n",
    "#MaxHR\n",
    "thalach = st.number_input('Maximum Heart Rate Achieved')\n",
    "#ExerciseAngina\n",
    "exang = st.selectbox('Exercise Induced Angina',df['exang'].unique())\n",
    "#Oldpeak\n",
    "Oldpeak = weight = st.number_input('Old peak')\n",
    "#ST_Slope\n",
    "slope = st.selectbox('The slope of the peak exercise ST segment',df['slope'].unique())\n",
    "\n",
    "if st.button('Predict Heart Health'):\n",
    "    query = np.array([Age,Sex,cp,trestbps,chol,fbs,restecg,thalach,exang,Oldpeak,slope])\n",
    "    query = query.reshape(1, 11)\n",
    "    result=str(pipe.predict(query)[0])\n",
    "    if result == 1:\n",
    "        st.header(\"You've a heart disease. Please, consult your doctor\")\n",
    "    else:\n",
    "        st.header(\"You don't have a heart disease\")\n",
    "    # st.title(\"Your Heart Health is \" + str(pipe.predict(query)[0]))\n",
    "    # query = query.reshape(1, 11)\n",
    "    # st.title(\"Your Heart Health Status is \"+ str(int(pipe.predict(query)[0])))\n",
    "    # st.header(\"Your Heart Health(1 means you've a disease) Status is:\" + str(int(result[0])))"
   ]
  },
  {
   "cell_type": "code",
   "execution_count": null,
   "id": "007e2ece",
   "metadata": {},
   "outputs": [],
   "source": []
  }
 ],
 "metadata": {
  "kernelspec": {
   "display_name": "Python 3",
   "language": "python",
   "name": "python3"
  },
  "language_info": {
   "codemirror_mode": {
    "name": "ipython",
    "version": 3
   },
   "file_extension": ".py",
   "mimetype": "text/x-python",
   "name": "python",
   "nbconvert_exporter": "python",
   "pygments_lexer": "ipython3",
   "version": "3.8.8"
  }
 },
 "nbformat": 4,
 "nbformat_minor": 5
}
